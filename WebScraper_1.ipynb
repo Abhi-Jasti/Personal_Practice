{
 "cells": [
  {
   "cell_type": "markdown",
   "id": "3d35399a-0633-475a-aa91-cafd919f4f14",
   "metadata": {},
   "source": [
    "Import necessary libraries."
   ]
  },
  {
   "cell_type": "code",
   "execution_count": 5,
   "id": "fe81ebe7-0235-4049-9e93-5f20e036bfc9",
   "metadata": {},
   "outputs": [],
   "source": [
    "from bs4 import BeautifulSoup\n",
    "import requests\n",
    "import pandas as pd\n",
    "import numpy as np\n"
   ]
  },
  {
   "cell_type": "markdown",
   "id": "4c7fd4a3-0f32-4de5-b24e-5587f2765c4d",
   "metadata": {},
   "source": [
    "Specify the web page for scraping and store them in objects"
   ]
  },
  {
   "cell_type": "code",
   "execution_count": 7,
   "id": "fa11552f-fe1e-4764-be34-7ebca4a2d3ed",
   "metadata": {},
   "outputs": [],
   "source": [
    "url = 'https://en.wikipedia.org/wiki/List_of_Billboard_Hot_100_number-one_singles_of_the_2020s'\n",
    "page = requests.get(url)\n",
    "soup = BeautifulSoup(page.text, 'html')"
   ]
  },
  {
   "cell_type": "markdown",
   "id": "1e38fdd6-893a-43fb-8992-8fe5759de9f5",
   "metadata": {},
   "source": [
    "Reformat page for easier viewing"
   ]
  },
  {
   "cell_type": "code",
   "execution_count": 9,
   "id": "c9f51516-dfbe-4cce-89b5-924b7f83465a",
   "metadata": {},
   "outputs": [],
   "source": [
    "#print(soup.prettify())"
   ]
  },
  {
   "cell_type": "markdown",
   "id": "8f378875-00a8-499a-baf0-0636e3c83574",
   "metadata": {},
   "source": [
    "From the page, find what elements you needed to be stored into your data frame."
   ]
  },
  {
   "cell_type": "code",
   "execution_count": 25,
   "id": "cdd4cb32-12a5-466b-ac6e-d50b2b0b66e7",
   "metadata": {},
   "outputs": [],
   "source": [
    "table = soup.find(\"table\", class_=\"wikitable\") #Choosing only the first table from the page"
   ]
  },
  {
   "cell_type": "code",
   "execution_count": 43,
   "id": "bccf78b3-1427-4bf6-b9d6-f2cb459a8257",
   "metadata": {},
   "outputs": [
    {
     "name": "stdout",
     "output_type": "stream",
     "text": [
      "[<th>Reached number one\n",
      "</th>, <th>Artist(s)\n",
      "</th>, <th>Single\n",
      "</th>, <th>Weeks at<br/>number one\n",
      "</th>, <th>References\n",
      "</th>]\n"
     ]
    }
   ],
   "source": [
    "Titles = table.find_all('th')[1:6] #All the titles seem to have th tag (Table Header)\n",
    "print(Titles)"
   ]
  },
  {
   "cell_type": "markdown",
   "id": "adcea878-e303-47b5-b68a-52e0111968b0",
   "metadata": {},
   "source": [
    "Using List Comprehension, parse through list of values and retrieve only Headers and not tags."
   ]
  },
  {
   "cell_type": "code",
   "execution_count": 107,
   "id": "85849615-04a3-4829-a874-ba9ec456ea91",
   "metadata": {},
   "outputs": [
    {
     "name": "stdout",
     "output_type": "stream",
     "text": [
      "['Rank', 'Reached number one', 'Artist(s)', 'Single', 'Weeks atnumber one', 'References']\n"
     ]
    }
   ],
   "source": [
    "table_Titles = [ Titles.text.strip() for Titles in Titles]\n",
    "table_Titles.insert(0,'Rank')\n",
    "print(table_Titles)"
   ]
  },
  {
   "cell_type": "markdown",
   "id": "943c3d3a-7b07-4010-a214-c696f12c98ef",
   "metadata": {},
   "source": [
    "Creating and storing retrieved values into the dataframe"
   ]
  },
  {
   "cell_type": "code",
   "execution_count": 108,
   "id": "5b160fbe-46c0-4b73-9a3d-22140dfc6cf8",
   "metadata": {},
   "outputs": [
    {
     "data": {
      "text/html": [
       "<div>\n",
       "<style scoped>\n",
       "    .dataframe tbody tr th:only-of-type {\n",
       "        vertical-align: middle;\n",
       "    }\n",
       "\n",
       "    .dataframe tbody tr th {\n",
       "        vertical-align: top;\n",
       "    }\n",
       "\n",
       "    .dataframe thead th {\n",
       "        text-align: right;\n",
       "    }\n",
       "</style>\n",
       "<table border=\"1\" class=\"dataframe\">\n",
       "  <thead>\n",
       "    <tr style=\"text-align: right;\">\n",
       "      <th></th>\n",
       "      <th>Rank</th>\n",
       "      <th>Reached number one</th>\n",
       "      <th>Artist(s)</th>\n",
       "      <th>Single</th>\n",
       "      <th>Weeks atnumber one</th>\n",
       "      <th>References</th>\n",
       "    </tr>\n",
       "  </thead>\n",
       "  <tbody>\n",
       "  </tbody>\n",
       "</table>\n",
       "</div>"
      ],
      "text/plain": [
       "Empty DataFrame\n",
       "Columns: [Rank, Reached number one, Artist(s), Single, Weeks atnumber one, References]\n",
       "Index: []"
      ]
     },
     "execution_count": 108,
     "metadata": {},
     "output_type": "execute_result"
    }
   ],
   "source": [
    "table_titles_df = pd.DataFrame(columns = table_Titles)\n",
    "table_titles_df"
   ]
  },
  {
   "cell_type": "code",
   "execution_count": null,
   "id": "5322c447-8f13-42aa-8616-68f9dc85a6ae",
   "metadata": {
    "scrolled": true
   },
   "outputs": [],
   "source": [
    "column_data = table.find_all('tr') #For all rows in the table\n",
    "for row in column_data[2:]:\n",
    "    row_data =row.find_all('td')\n",
    "    individual_row_data = [row_data.text.strip() for row_data in row_data]\n",
    " \n",
    "    "
   ]
  },
  {
   "cell_type": "code",
   "execution_count": null,
   "id": "a22726a2-71f0-4ec9-a5dc-d7b199b21ca8",
   "metadata": {},
   "outputs": [],
   "source": [
    "#INCOMPLETE - Failing to append data to existing data frame"
   ]
  },
  {
   "cell_type": "markdown",
   "id": "d83e33a3-c263-4976-89ad-796f3ff8625b",
   "metadata": {},
   "source": [
    "Better Workaround"
   ]
  },
  {
   "cell_type": "code",
   "execution_count": 154,
   "id": "22bd0188-4946-481f-9327-4fd25eb2c4ae",
   "metadata": {
    "scrolled": true
   },
   "outputs": [
    {
     "data": {
      "text/html": [
       "<div>\n",
       "<style scoped>\n",
       "    .dataframe tbody tr th:only-of-type {\n",
       "        vertical-align: middle;\n",
       "    }\n",
       "\n",
       "    .dataframe tbody tr th {\n",
       "        vertical-align: top;\n",
       "    }\n",
       "\n",
       "    .dataframe thead tr th {\n",
       "        text-align: left;\n",
       "    }\n",
       "</style>\n",
       "<table border=\"1\" class=\"dataframe\">\n",
       "  <thead>\n",
       "    <tr>\n",
       "      <th></th>\n",
       "      <th>#</th>\n",
       "      <th>Reached number one</th>\n",
       "      <th>Artist(s)</th>\n",
       "      <th>Single</th>\n",
       "      <th>Weeks at number one</th>\n",
       "      <th>References</th>\n",
       "      <th>Unnamed: 6_level_0</th>\n",
       "    </tr>\n",
       "    <tr>\n",
       "      <th></th>\n",
       "      <th>2020</th>\n",
       "      <th>2020</th>\n",
       "      <th>2020</th>\n",
       "      <th>2020</th>\n",
       "      <th>2020</th>\n",
       "      <th>2020</th>\n",
       "      <th>2020</th>\n",
       "    </tr>\n",
       "  </thead>\n",
       "  <tbody>\n",
       "    <tr>\n",
       "      <th>0</th>\n",
       "      <td>1096</td>\n",
       "      <td>January 18, 2020</td>\n",
       "      <td>Roddy Ricch</td>\n",
       "      <td>\"The Box\"</td>\n",
       "      <td>11</td>\n",
       "      <td>[5]</td>\n",
       "      <td>NaN</td>\n",
       "    </tr>\n",
       "    <tr>\n",
       "      <th>1</th>\n",
       "      <td>1097</td>\n",
       "      <td>April 4, 2020</td>\n",
       "      <td>The Weeknd</td>\n",
       "      <td>\"Blinding Lights\" ♪ [6]</td>\n",
       "      <td>4</td>\n",
       "      <td>[7]</td>\n",
       "      <td>NaN</td>\n",
       "    </tr>\n",
       "    <tr>\n",
       "      <th>2</th>\n",
       "      <td>1098</td>\n",
       "      <td>April 18, 2020</td>\n",
       "      <td>Drake</td>\n",
       "      <td>\"Toosie Slide\"</td>\n",
       "      <td>1</td>\n",
       "      <td>[8]</td>\n",
       "      <td>NaN</td>\n",
       "    </tr>\n",
       "    <tr>\n",
       "      <th>3</th>\n",
       "      <td>1099</td>\n",
       "      <td>May 9, 2020</td>\n",
       "      <td>The Scotts (Travis Scott and Kid Cudi)</td>\n",
       "      <td>\"The Scotts\"</td>\n",
       "      <td>1</td>\n",
       "      <td>[9]</td>\n",
       "      <td>NaN</td>\n",
       "    </tr>\n",
       "    <tr>\n",
       "      <th>4</th>\n",
       "      <td>1100</td>\n",
       "      <td>May 16, 2020</td>\n",
       "      <td>Doja Cat featuring Nicki Minaj</td>\n",
       "      <td>\"Say So\"</td>\n",
       "      <td>1</td>\n",
       "      <td>[10]</td>\n",
       "      <td>NaN</td>\n",
       "    </tr>\n",
       "    <tr>\n",
       "      <th>...</th>\n",
       "      <td>...</td>\n",
       "      <td>...</td>\n",
       "      <td>...</td>\n",
       "      <td>...</td>\n",
       "      <td>...</td>\n",
       "      <td>...</td>\n",
       "      <td>...</td>\n",
       "    </tr>\n",
       "    <tr>\n",
       "      <th>77</th>\n",
       "      <td>1165</td>\n",
       "      <td>March 16, 2024</td>\n",
       "      <td>¥$: Ye and Ty Dolla Sign featuring Rich the Ki...</td>\n",
       "      <td>\"Carnival\"</td>\n",
       "      <td>1</td>\n",
       "      <td>[81]</td>\n",
       "      <td>NaN</td>\n",
       "    </tr>\n",
       "    <tr>\n",
       "      <th>78</th>\n",
       "      <td>1166</td>\n",
       "      <td>March 23, 2024</td>\n",
       "      <td>Ariana Grande</td>\n",
       "      <td>\"We Can't Be Friends (Wait for Your Love)\"</td>\n",
       "      <td>1</td>\n",
       "      <td>[82]</td>\n",
       "      <td>NaN</td>\n",
       "    </tr>\n",
       "    <tr>\n",
       "      <th>79</th>\n",
       "      <td>1167</td>\n",
       "      <td>March 30, 2024</td>\n",
       "      <td>Teddy Swims</td>\n",
       "      <td>\"Lose Control\"</td>\n",
       "      <td>1</td>\n",
       "      <td>[83]</td>\n",
       "      <td>NaN</td>\n",
       "    </tr>\n",
       "    <tr>\n",
       "      <th>80</th>\n",
       "      <td>1168</td>\n",
       "      <td>April 6, 2024</td>\n",
       "      <td>Future, Metro Boomin and Kendrick Lamar</td>\n",
       "      <td>\"Like That\"</td>\n",
       "      <td>3</td>\n",
       "      <td>[84]</td>\n",
       "      <td>NaN</td>\n",
       "    </tr>\n",
       "    <tr>\n",
       "      <th>81</th>\n",
       "      <td>1169</td>\n",
       "      <td>April 27, 2024</td>\n",
       "      <td>Hozier</td>\n",
       "      <td>\"Too Sweet\"</td>\n",
       "      <td>1*</td>\n",
       "      <td>[85]</td>\n",
       "      <td>NaN</td>\n",
       "    </tr>\n",
       "  </tbody>\n",
       "</table>\n",
       "<p>82 rows × 7 columns</p>\n",
       "</div>"
      ],
      "text/plain": [
       "       # Reached number one  \\\n",
       "    2020               2020   \n",
       "0   1096   January 18, 2020   \n",
       "1   1097      April 4, 2020   \n",
       "2   1098     April 18, 2020   \n",
       "3   1099        May 9, 2020   \n",
       "4   1100       May 16, 2020   \n",
       "..   ...                ...   \n",
       "77  1165     March 16, 2024   \n",
       "78  1166     March 23, 2024   \n",
       "79  1167     March 30, 2024   \n",
       "80  1168      April 6, 2024   \n",
       "81  1169     April 27, 2024   \n",
       "\n",
       "                                            Artist(s)  \\\n",
       "                                                 2020   \n",
       "0                                         Roddy Ricch   \n",
       "1                                          The Weeknd   \n",
       "2                                               Drake   \n",
       "3              The Scotts (Travis Scott and Kid Cudi)   \n",
       "4                      Doja Cat featuring Nicki Minaj   \n",
       "..                                                ...   \n",
       "77  ¥$: Ye and Ty Dolla Sign featuring Rich the Ki...   \n",
       "78                                      Ariana Grande   \n",
       "79                                        Teddy Swims   \n",
       "80            Future, Metro Boomin and Kendrick Lamar   \n",
       "81                                             Hozier   \n",
       "\n",
       "                                        Single Weeks at number one References  \\\n",
       "                                          2020                2020       2020   \n",
       "0                                    \"The Box\"                  11        [5]   \n",
       "1                      \"Blinding Lights\" ♪ [6]                   4        [7]   \n",
       "2                               \"Toosie Slide\"                   1        [8]   \n",
       "3                                 \"The Scotts\"                   1        [9]   \n",
       "4                                     \"Say So\"                   1       [10]   \n",
       "..                                         ...                 ...        ...   \n",
       "77                                  \"Carnival\"                   1       [81]   \n",
       "78  \"We Can't Be Friends (Wait for Your Love)\"                   1       [82]   \n",
       "79                              \"Lose Control\"                   1       [83]   \n",
       "80                                 \"Like That\"                   3       [84]   \n",
       "81                                 \"Too Sweet\"                  1*       [85]   \n",
       "\n",
       "   Unnamed: 6_level_0  \n",
       "                 2020  \n",
       "0                 NaN  \n",
       "1                 NaN  \n",
       "2                 NaN  \n",
       "3                 NaN  \n",
       "4                 NaN  \n",
       "..                ...  \n",
       "77                NaN  \n",
       "78                NaN  \n",
       "79                NaN  \n",
       "80                NaN  \n",
       "81                NaN  \n",
       "\n",
       "[82 rows x 7 columns]"
      ]
     },
     "execution_count": 154,
     "metadata": {},
     "output_type": "execute_result"
    }
   ],
   "source": [
    "dfs = pd.read_html(url)\n",
    "dfs[2]"
   ]
  },
  {
   "cell_type": "raw",
   "id": "1a119257-f5d7-44c5-925a-08060534b2cf",
   "metadata": {},
   "source": []
  }
 ],
 "metadata": {
  "kernelspec": {
   "display_name": "Python 3 (ipykernel)",
   "language": "python",
   "name": "python3"
  },
  "language_info": {
   "codemirror_mode": {
    "name": "ipython",
    "version": 3
   },
   "file_extension": ".py",
   "mimetype": "text/x-python",
   "name": "python",
   "nbconvert_exporter": "python",
   "pygments_lexer": "ipython3",
   "version": "3.12.1"
  }
 },
 "nbformat": 4,
 "nbformat_minor": 5
}
